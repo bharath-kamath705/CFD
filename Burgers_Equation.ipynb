{
 "cells": [
  {
   "cell_type": "markdown",
   "metadata": {},
   "source": [
    "# Burgers Equation\n"
   ]
  },
  {
   "cell_type": "code",
   "execution_count": 60,
   "metadata": {},
   "outputs": [
    {
     "name": "stdout",
     "output_type": "stream",
     "text": [
      "\n",
      "phi = \n"
     ]
    },
    {
     "data": {
      "image/png": "[encoded data removed]",
      "text/latex": [
       "$\\displaystyle e^{- \\frac{\\left(- 4 t + x - 2 \\pi\\right)^{2}}{4 \\nu \\left(t + 1\\right)}} + e^{- \\frac{\\left(- 4 t + x\\right)^{2}}{4 \\nu \\left(t + 1\\right)}}$"
      ],
      "text/plain": [
       "                  2                2 \n",
       " -(-4⋅t + x - 2⋅π)      -(-4⋅t + x)  \n",
       " ───────────────────    ─────────────\n",
       "     4⋅ν⋅(t + 1)         4⋅ν⋅(t + 1) \n",
       "ℯ                    + ℯ             "
      ]
     },
     "metadata": {},
     "output_type": "display_data"
    },
    {
     "name": "stdout",
     "output_type": "stream",
     "text": [
      "\n",
      "dphi/dx =\n"
     ]
    },
    {
     "data": {
      "image/png": "[encoded data removed]",
      "text/latex": [
       "$\\displaystyle - \\frac{\\left(- 8 t + 2 x\\right) e^{- \\frac{\\left(- 4 t + x\\right)^{2}}{4 \\nu \\left(t + 1\\right)}}}{4 \\nu \\left(t + 1\\right)} - \\frac{\\left(- 8 t + 2 x - 4 \\pi\\right) e^{- \\frac{\\left(- 4 t + x - 2 \\pi\\right)^{2}}{4 \\nu \\left(t + 1\\right)}}}{4 \\nu \\left(t + 1\\right)}$"
      ],
      "text/plain": [
       "                           2                                         2 \n",
       "                -(-4⋅t + x)                         -(-4⋅t + x - 2⋅π)  \n",
       "                ─────────────                       ───────────────────\n",
       "                 4⋅ν⋅(t + 1)                            4⋅ν⋅(t + 1)    \n",
       "  (-8⋅t + 2⋅x)⋅ℯ                (-8⋅t + 2⋅x - 4⋅π)⋅ℯ                   \n",
       "- ─────────────────────────── - ───────────────────────────────────────\n",
       "          4⋅ν⋅(t + 1)                         4⋅ν⋅(t + 1)              "
      ]
     },
     "metadata": {},
     "output_type": "display_data"
    },
    {
     "name": "stdout",
     "output_type": "stream",
     "text": [
      "\n",
      "phi as a string:\n",
      "exp(-(-4*t + x - 2*pi)**2/(4*nu*(t + 1))) + exp(-(-4*t + x)**2/(4*nu*(t + 1)))\n"
     ]
    },
    {
     "data": {
      "image/png": "[encoded data removed]",
      "text/latex": [
       "$\\displaystyle 3.49170664206445$"
      ],
      "text/plain": [
       "3.49170664206445"
      ]
     },
     "execution_count": 60,
     "metadata": {},
     "output_type": "execute_result"
    }
   ],
   "source": [
    "%matplotlib inline\n",
    "import numpy as np\n",
    "from matplotlib import pyplot as plt\n",
    "\n",
    "# imports for creating an animated plot\n",
    "import matplotlib.animation as animation\n",
    "from IPython.display import Video\n",
    "\n",
    "\n",
    "# imports for symbolic math\n",
    "import sympy\n",
    "from IPython.display import display\n",
    "sympy.init_printing(use_latex=True)\n",
    "\n",
    "# expression for phi\n",
    "x, nu, t = sympy.symbols('x nu t')\n",
    "phi = sympy.exp(-(x-4*t)**2 / (4*nu*(t+1))) + sympy.exp(-(x - 4*t - 2*sympy.pi)**2 / (4*nu*(t+1))) \n",
    "print(\"\\nphi = \")\n",
    "display(phi)\n",
    "\n",
    "# differentiate phi\n",
    "dphi_dx = phi.diff(x)\n",
    "dphi_dx\n",
    "print(\"\\ndphi/dx =\")\n",
    "display(dphi_dx)\n",
    "\n",
    "print(\"\\nphi as a string:\")\n",
    "print(phi)\n",
    "\n",
    "# define u for initial conditions\n",
    "u = -2*nu/phi * dphi_dx + 4\n",
    "\n",
    "# create callable function from definition of u \n",
    "ufunc = sympy.lambdify((x, t,  nu), u)\n",
    "ufunc(4,1,3) # sample test"
   ]
  },
  {
   "cell_type": "code",
   "execution_count": 48,
   "metadata": {},
   "outputs": [
    {
     "data": {
      "text/plain": [
       "Text(0, 0.5, 'u')"
      ]
     },
     "execution_count": 48,
     "metadata": {},
     "output_type": "execute_result"
    },
    {
     "data": {
      "image/png": "[encoded data removed]",
      "text/plain": [
       "<Figure size 720x432 with 1 Axes>"
      ]
     },
     "metadata": {
      "needs_background": "light"
     },
     "output_type": "display_data"
    }
   ],
   "source": [
    "x_start, x_end = 0, 2*np.pi\n",
    "nodes_x = 101\n",
    "steps_t = 100\n",
    "nu = 0.07\n",
    "dx = (x_end - x_start) / (nodes_x - 1)\n",
    "dt = dx * nu\n",
    "alpha = dt/dx\n",
    "x  = np.linspace(x_start, x_end, nodes_x)\n",
    "u0 = np.asarray([ufunc(xi, 0, nu) for xi in x]) \n",
    "\n",
    "u1 = u0\n",
    "u2 = u0\n",
    "U = np.zeros([steps_t, nodes_x])\n",
    "\n",
    "for n in range (steps_t):\n",
    "    for i in range (1, nodes_x - 1):\n",
    "        u2[i]  = u1[i] - alpha*u1[i]*(u1[i] - u1[i-1]) + alpha*nu*(u1[i+1] - 2*u1[i] + u1[i-1])/dx\n",
    "        u2[0]  = u1[0] - alpha*u1[0]*(u1[0] - u1[-2]) + alpha*nu*(u1[1] - 2*u1[0] + u1[-2])/dx\n",
    "        u2[-1] = u2[0]    \n",
    "    u1 = u2\n",
    "    U[n,:] = u2\n",
    "\n",
    "fig, ax = plt.subplots(figsize=[10,6])\n",
    "ax.plot(x, U[0, :])\n",
    "ax.set_xlabel(\"x\", fontsize=18)\n",
    "ax.set_ylabel(\"u\", fontsize=18)\n"
   ]
  },
  {
   "cell_type": "code",
   "execution_count": 58,
   "metadata": {},
   "outputs": [
    {
     "data": {
      "text/html": [
       "<video src=\"Burgers_plot.mp4\" controls  >\n",
       "      Your browser does not support the <code>video</code> element.\n",
       "    </video>"
      ],
      "text/plain": [
       "<IPython.core.display.Video object>"
      ]
     },
     "execution_count": 58,
     "metadata": {},
     "output_type": "execute_result"
    }
   ],
   "source": [
    "fig, ax = plt.subplots()\n",
    "ax.set_xlim([x_start, x_end])\n",
    "ax.set_ylim([0, np.amax(U[0,:])])\n",
    "ax.set_xlabel(\"x\", fontsize=18)\n",
    "ax.set_ylabel(\"u\", fontsize=18)\n",
    "\n",
    "line, = ax.plot(x, u0)\n",
    "time_text = ax.text(3,3,'')\n",
    "\n",
    "def init():  # only required for blitting to give a clean slate.\n",
    "    line.set_ydata([np.nan] * len(x))\n",
    "    return line,\n",
    "\n",
    "def animate(n):\n",
    "    line.set_ydata(U[n,:]) \n",
    "    time_text.set_text(n)\n",
    "    return line, time_text\n",
    "\n",
    "\n",
    "ani = animation.FuncAnimation(\n",
    "    fig, animate, init_func=init, interval=50, blit=True, save_count=steps_t)\n",
    "\n",
    "plt.close()\n",
    "# save the animation\n",
    "ani.save(\"Burgers_plot.mp4\")\n",
    "Video(\"Burgers_plot.mp4\")"
   ]
  },
  {
   "cell_type": "code",
   "execution_count": 62,
   "metadata": {},
   "outputs": [
    {
     "data": {
      "text/plain": [
       "<matplotlib.animation.FuncAnimation at 0x14ff0aca6c8>"
      ]
     },
     "execution_count": 62,
     "metadata": {},
     "output_type": "execute_result"
    }
   ],
   "source": [
    "\n",
    "ani"
   ]
  }
 ],
 "metadata": {
  "kernelspec": {
   "display_name": "Python 3",
   "language": "python",
   "name": "python3"
  },
  "language_info": {
   "codemirror_mode": {
    "name": "ipython",
    "version": 3
   },
   "file_extension": ".py",
   "mimetype": "text/x-python",
   "name": "python",
   "nbconvert_exporter": "python",
   "pygments_lexer": "ipython3",
   "version": "3.7.4"
  }
 },
 "nbformat": 4,
 "nbformat_minor": 2
}
